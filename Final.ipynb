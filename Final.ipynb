{
 "cells": [
  {
   "cell_type": "code",
   "execution_count": 209,
   "metadata": {
    "collapsed": true,
    "ExecuteTime": {
     "start_time": "2023-05-14T14:23:52.189820Z",
     "end_time": "2023-05-14T14:23:52.237806Z"
    }
   },
   "outputs": [],
   "source": [
    "import numpy as np # linear algebra\n",
    "import pandas as pd # data processing, CSV file I/O (e.g. pd.read_csv)\n",
    "import matplotlib.pyplot as plt # for data visualization\n",
    "import seaborn as sns # for statistical data visualization\n",
    "from sklearn.preprocessing import LabelEncoder\n",
    "from sklearn.preprocessing import MinMaxScaler\n",
    "from sklearn.cluster import KMeans\n",
    "import warnings\n",
    "warnings.filterwarnings('ignore')"
   ]
  },
  {
   "cell_type": "markdown",
   "source": [
    "# Final Project\n",
    "### Sulchan Yoon\n",
    "### 2023-05-14\n",
    "\n",
    "## Space Objects\n",
    "\n",
    "There are many satellites and other systems that are classified within their respective Country of Origin and their related information may be limited or not available on this dataset. The dataset has last been updated as of 5/1/2022 and provided by the Union of Concerned Scientists through https://www.ucsusa.org/resources/satellite-database."
   ],
   "metadata": {
    "collapsed": false
   }
  },
  {
   "cell_type": "code",
   "execution_count": 210,
   "outputs": [],
   "source": [
    "df = pd.read_csv(\"UCS-Satellite-Database-5-1-2022.csv\", encoding = 'utf8')"
   ],
   "metadata": {
    "collapsed": false,
    "ExecuteTime": {
     "start_time": "2023-05-14T14:23:52.208277Z",
     "end_time": "2023-05-14T14:23:52.311443Z"
    }
   }
  },
  {
   "cell_type": "markdown",
   "source": [
    "Definition of Labels\n",
    "Labels:\n",
    "\n",
    "Name of Satellite, Alternate Names\n",
    "Public name\n",
    "Current Official Name of Satellite\n",
    "Official name or project name\n",
    "Country/Org of UN Registry\n",
    "Country as registered with the United Nations. NR if not reported\n",
    "Country of Operator/Owner\n",
    "Country of operator/owner. NR if not reported\n",
    "Operator/Owner\n",
    "Organization who owns or operates. NR if not reported\n",
    "Users\n",
    "Sector of use\n",
    "Purpose\n",
    "Scope of purpose\n",
    "Detailed Purpose\n",
    "Additional details or secondary purpose\n",
    "Class of Orbit\n",
    "Orbit location\n",
    "Type of Orbit\n",
    "Shape or orbit path\n",
    "Longitude of GEO (degrees)\n",
    "Location if in GEO orbit\n",
    "Perigee (km)\n",
    "Closest distance to Earth within orbit\n",
    "Apogee (km)\n",
    "Furthest distance to Earth within orbit\n",
    "Eccentricity\n",
    "Amount of change as it relates to a circle\n",
    "Inclination (degrees)\n",
    "Orbital Inclination: Slope or angle between reference plane\n",
    "Period (minutes)\n",
    "Time to complete a single orbit\n",
    "Launch Mass (kg.)\n",
    "Mass of vehicle inclusive of propellant\n",
    "Dry Mass (kg.)\n",
    "Mass of vehicle exclusive of propellant\n",
    "Power (watts)\n",
    "Storage of power as beginning of life (BOL) if not indicated or end of life (EOL)\n",
    "Date of Launch\n",
    "Actual launch date\n",
    "Expected Lifetime (yrs.)\n",
    "Assumed value of the vehicle\n",
    "Contractor\n",
    "Main organization to research and develop the vehicle\n",
    "Country of Contractor\n",
    "Country for the contractor\n",
    "Launch Site\n",
    "Site of vehicle launch\n",
    "Launch Location\n",
    "Country of which the vehicle was launched. For Sea launches, they will be labelled as such.\n",
    "Launch Vehicle\n",
    "Rocket name used to launch the instrument or satellite\n",
    "COSPAR Number\n",
    "International identifier assigned to artificial objects in space as tracked by COSPAR (Committee on Space Research)\n",
    "NORAD Number\n",
    "Satellite identification number as tracked by NORAD (North American Aerospace Defense Command)\n",
    "Comments\n",
    "Additional comments on usage\n",
    "Comments2\n",
    "Additional comments on usage\n",
    "Source Used for Orbital Data\n",
    "Literature or IP disclosure from which the data was extracted from\n",
    "Source\n",
    "Source link\n",
    "Source2\n",
    "Additional source\n",
    "Source3\n",
    "Additional source\n",
    "Source4\n",
    "Additional source\n",
    "Source5\n",
    "Additional source\n",
    "Source6\n",
    "Additional source\n",
    "Source7\n",
    "Additional source"
   ],
   "metadata": {
    "collapsed": false
   }
  },
  {
   "cell_type": "code",
   "execution_count": 211,
   "outputs": [
    {
     "name": "stdout",
     "output_type": "stream",
     "text": [
      "<class 'pandas.core.frame.DataFrame'>\n",
      "RangeIndex: 5465 entries, 0 to 5464\n",
      "Data columns (total 27 columns):\n",
      " #   Column                              Non-Null Count  Dtype  \n",
      "---  ------                              --------------  -----  \n",
      " 0   Name of Satellite, Alternate Names  5465 non-null   object \n",
      " 1   Current Official Name of Satellite  5465 non-null   object \n",
      " 2   Country/Org of UN Registry          4968 non-null   object \n",
      " 3   Country of Operator/Owner           5465 non-null   object \n",
      " 4   Operator/Owner                      5465 non-null   object \n",
      " 5   Users                               5465 non-null   object \n",
      " 6   Purpose                             5465 non-null   object \n",
      " 7   Detailed Purpose                    1140 non-null   object \n",
      " 8   Class of Orbit                      5465 non-null   object \n",
      " 9   Type of Orbit                       5465 non-null   object \n",
      " 10  Longitude of GEO (degrees)          5465 non-null   float64\n",
      " 11  Perigee (km)                        5465 non-null   int64  \n",
      " 12  Apogee (km)                         5465 non-null   int64  \n",
      " 13  Eccentricity                        5465 non-null   float64\n",
      " 14  Inclination (degrees)               5465 non-null   float64\n",
      " 15  Period (minutes)                    5465 non-null   float64\n",
      " 16  Launch Mass (kg.)                   5225 non-null   float64\n",
      " 17   Dry Mass (kg.)                     444 non-null    object \n",
      " 18  Date of Launch                      5465 non-null   int64  \n",
      " 19  Expected Lifetime (yrs.)            3599 non-null   float64\n",
      " 20  Contractor                          5463 non-null   object \n",
      " 21  Country of Contractor               5463 non-null   object \n",
      " 22  Launch Site                         5464 non-null   object \n",
      " 23  Launch Location                     5465 non-null   object \n",
      " 24  Launch Vehicle                      5465 non-null   object \n",
      " 25  COSPAR Number                       5465 non-null   object \n",
      " 26  NORAD Number                        5465 non-null   int64  \n",
      "dtypes: float64(6), int64(4), object(17)\n",
      "memory usage: 1.1+ MB\n"
     ]
    }
   ],
   "source": [
    "df.info()"
   ],
   "metadata": {
    "collapsed": false,
    "ExecuteTime": {
     "start_time": "2023-05-14T14:23:52.253384Z",
     "end_time": "2023-05-14T14:23:52.320455Z"
    }
   }
  },
  {
   "cell_type": "code",
   "execution_count": 212,
   "outputs": [
    {
     "data": {
      "text/plain": "Name of Satellite, Alternate Names       0\nCurrent Official Name of Satellite       0\nCountry/Org of UN Registry             497\nCountry of Operator/Owner                0\nOperator/Owner                           0\nUsers                                    0\nPurpose                                  0\nDetailed Purpose                      4325\nClass of Orbit                           0\nType of Orbit                            0\nLongitude of GEO (degrees)               0\nPerigee (km)                             0\nApogee (km)                              0\nEccentricity                             0\nInclination (degrees)                    0\nPeriod (minutes)                         0\nLaunch Mass (kg.)                      240\n Dry Mass (kg.)                       5021\nDate of Launch                           0\nExpected Lifetime (yrs.)              1866\nContractor                               2\nCountry of Contractor                    2\nLaunch Site                              1\nLaunch Location                          0\nLaunch Vehicle                           0\nCOSPAR Number                            0\nNORAD Number                             0\ndtype: int64"
     },
     "execution_count": 212,
     "metadata": {},
     "output_type": "execute_result"
    }
   ],
   "source": [
    "df.isnull().sum()"
   ],
   "metadata": {
    "collapsed": false,
    "ExecuteTime": {
     "start_time": "2023-05-14T14:23:52.286414Z",
     "end_time": "2023-05-14T14:23:52.320956Z"
    }
   }
  },
  {
   "cell_type": "code",
   "execution_count": 213,
   "outputs": [
    {
     "name": "stdout",
     "output_type": "stream",
     "text": [
      "<class 'pandas.core.frame.DataFrame'>\n",
      "RangeIndex: 5465 entries, 0 to 5464\n",
      "Data columns (total 13 columns):\n",
      " #   Column                      Non-Null Count  Dtype  \n",
      "---  ------                      --------------  -----  \n",
      " 0   Country of Operator/Owner   5465 non-null   object \n",
      " 1   Users                       5465 non-null   object \n",
      " 2   Purpose                     5465 non-null   object \n",
      " 3   Class of Orbit              5465 non-null   object \n",
      " 4   Type of Orbit               5465 non-null   object \n",
      " 5   Longitude of GEO (degrees)  5465 non-null   float64\n",
      " 6   Perigee (km)                5465 non-null   int64  \n",
      " 7   Apogee (km)                 5465 non-null   int64  \n",
      " 8   Eccentricity                5465 non-null   float64\n",
      " 9   Inclination (degrees)       5465 non-null   float64\n",
      " 10  Period (minutes)            5465 non-null   float64\n",
      " 11  Launch Mass (kg.)           5225 non-null   float64\n",
      " 12  Expected Lifetime (yrs.)    3599 non-null   float64\n",
      "dtypes: float64(6), int64(2), object(5)\n",
      "memory usage: 555.2+ KB\n"
     ]
    }
   ],
   "source": [
    "df.drop([\"Name of Satellite, Alternate Names\",\"Current Official Name of Satellite\",\"Country/Org of UN Registry\",\"Operator/Owner\",\"Detailed Purpose\",\"Contractor\",\"Country of Contractor\",\"Launch Location\",\"Launch Site\",\"Launch Vehicle\",\"COSPAR Number\",\"NORAD Number\", \"Date of Launch\", \" Dry Mass (kg.) \"], axis=1, inplace= True)\n",
    "df.info()"
   ],
   "metadata": {
    "collapsed": false,
    "ExecuteTime": {
     "start_time": "2023-05-14T14:23:52.315443Z",
     "end_time": "2023-05-14T14:23:52.404718Z"
    }
   }
  },
  {
   "cell_type": "code",
   "execution_count": 214,
   "outputs": [
    {
     "data": {
      "text/plain": "       Longitude of GEO (degrees)  Perigee (km)    Apogee (km)  Eccentricity   \ncount                 5465.000000   5465.000000    5465.000000   5465.000000  \\\nmean                     2.295332   4711.681976    5388.042086      0.376015   \nstd                     30.299114  10979.442564   14297.830586     13.591620   \nmin                   -179.800000    150.000000      49.000000     -0.033400   \n25%                      0.000000    496.000000     514.000000      0.000223   \n50%                      0.000000    548.000000     561.000000      0.000727   \n75%                      0.000000    704.000000     791.000000      0.001150   \nmax                    359.000000  62200.000000  330000.000000    511.000000   \n\n       Inclination (degrees)  Period (minutes)  Launch Mass (kg.)   \ncount            5465.000000       5465.000000        5225.000000  \\\nmean               63.018543        265.411733         746.259522   \nstd                29.601540        499.026104        1573.908306   \nmin                 0.000000          9.000000           1.000000   \n25%                53.000000         94.500000         120.000000   \n50%                53.200000         95.600000         260.000000   \n75%                97.300000         97.400000         260.000000   \nmax               143.400000      11520.000000       22500.000000   \n\n       Expected Lifetime (yrs.)  \ncount               3599.000000  \nmean                   5.909906  \nstd                    4.021874  \nmin                    0.250000  \n25%                    4.000000  \n50%                    4.000000  \n75%                    5.000000  \nmax                   30.000000  ",
      "text/html": "<div>\n<style scoped>\n    .dataframe tbody tr th:only-of-type {\n        vertical-align: middle;\n    }\n\n    .dataframe tbody tr th {\n        vertical-align: top;\n    }\n\n    .dataframe thead th {\n        text-align: right;\n    }\n</style>\n<table border=\"1\" class=\"dataframe\">\n  <thead>\n    <tr style=\"text-align: right;\">\n      <th></th>\n      <th>Longitude of GEO (degrees)</th>\n      <th>Perigee (km)</th>\n      <th>Apogee (km)</th>\n      <th>Eccentricity</th>\n      <th>Inclination (degrees)</th>\n      <th>Period (minutes)</th>\n      <th>Launch Mass (kg.)</th>\n      <th>Expected Lifetime (yrs.)</th>\n    </tr>\n  </thead>\n  <tbody>\n    <tr>\n      <th>count</th>\n      <td>5465.000000</td>\n      <td>5465.000000</td>\n      <td>5465.000000</td>\n      <td>5465.000000</td>\n      <td>5465.000000</td>\n      <td>5465.000000</td>\n      <td>5225.000000</td>\n      <td>3599.000000</td>\n    </tr>\n    <tr>\n      <th>mean</th>\n      <td>2.295332</td>\n      <td>4711.681976</td>\n      <td>5388.042086</td>\n      <td>0.376015</td>\n      <td>63.018543</td>\n      <td>265.411733</td>\n      <td>746.259522</td>\n      <td>5.909906</td>\n    </tr>\n    <tr>\n      <th>std</th>\n      <td>30.299114</td>\n      <td>10979.442564</td>\n      <td>14297.830586</td>\n      <td>13.591620</td>\n      <td>29.601540</td>\n      <td>499.026104</td>\n      <td>1573.908306</td>\n      <td>4.021874</td>\n    </tr>\n    <tr>\n      <th>min</th>\n      <td>-179.800000</td>\n      <td>150.000000</td>\n      <td>49.000000</td>\n      <td>-0.033400</td>\n      <td>0.000000</td>\n      <td>9.000000</td>\n      <td>1.000000</td>\n      <td>0.250000</td>\n    </tr>\n    <tr>\n      <th>25%</th>\n      <td>0.000000</td>\n      <td>496.000000</td>\n      <td>514.000000</td>\n      <td>0.000223</td>\n      <td>53.000000</td>\n      <td>94.500000</td>\n      <td>120.000000</td>\n      <td>4.000000</td>\n    </tr>\n    <tr>\n      <th>50%</th>\n      <td>0.000000</td>\n      <td>548.000000</td>\n      <td>561.000000</td>\n      <td>0.000727</td>\n      <td>53.200000</td>\n      <td>95.600000</td>\n      <td>260.000000</td>\n      <td>4.000000</td>\n    </tr>\n    <tr>\n      <th>75%</th>\n      <td>0.000000</td>\n      <td>704.000000</td>\n      <td>791.000000</td>\n      <td>0.001150</td>\n      <td>97.300000</td>\n      <td>97.400000</td>\n      <td>260.000000</td>\n      <td>5.000000</td>\n    </tr>\n    <tr>\n      <th>max</th>\n      <td>359.000000</td>\n      <td>62200.000000</td>\n      <td>330000.000000</td>\n      <td>511.000000</td>\n      <td>143.400000</td>\n      <td>11520.000000</td>\n      <td>22500.000000</td>\n      <td>30.000000</td>\n    </tr>\n  </tbody>\n</table>\n</div>"
     },
     "execution_count": 214,
     "metadata": {},
     "output_type": "execute_result"
    }
   ],
   "source": [
    "df.describe()"
   ],
   "metadata": {
    "collapsed": false,
    "ExecuteTime": {
     "start_time": "2023-05-14T14:23:52.347157Z",
     "end_time": "2023-05-14T14:23:52.420741Z"
    }
   }
  },
  {
   "cell_type": "code",
   "execution_count": 215,
   "outputs": [
    {
     "name": "stdout",
     "output_type": "stream",
     "text": [
      "Number of unique Country of Operator/Owners 108\n",
      "Number of unique Users 22\n",
      "Number of unique purposes 32\n",
      "Number of unique Classes of orbit 4\n",
      "Number of unique Classes of Types of orbit 9\n"
     ]
    }
   ],
   "source": [
    "print(\"Number of unique Country of Operator/Owners\", len(df['Country of Operator/Owner'].unique()))\n",
    "print(\"Number of unique Users\", len(df['Users'].unique()))\n",
    "print(\"Number of unique purposes\", len(df['Purpose'].unique()))\n",
    "print(\"Number of unique Classes of orbit\", len(df['Class of Orbit'].unique()))\n",
    "print(\"Number of unique Classes of Types of orbit\", len(df['Type of Orbit'].unique()))\n"
   ],
   "metadata": {
    "collapsed": false,
    "ExecuteTime": {
     "start_time": "2023-05-14T14:23:52.395206Z",
     "end_time": "2023-05-14T14:23:52.421242Z"
    }
   }
  },
  {
   "cell_type": "code",
   "execution_count": 216,
   "outputs": [],
   "source": [
    "df.drop([\"Country of Operator/Owner\", \"Launch Mass (kg.)\", \"Expected Lifetime (yrs.)\"], axis=1, inplace= True)"
   ],
   "metadata": {
    "collapsed": false,
    "ExecuteTime": {
     "start_time": "2023-05-14T14:23:52.411229Z",
     "end_time": "2023-05-14T14:23:52.430756Z"
    }
   }
  },
  {
   "cell_type": "code",
   "execution_count": 217,
   "outputs": [
    {
     "data": {
      "text/plain": "Users                         0\nPurpose                       0\nClass of Orbit                0\nType of Orbit                 0\nLongitude of GEO (degrees)    0\nPerigee (km)                  0\nApogee (km)                   0\nEccentricity                  0\nInclination (degrees)         0\nPeriod (minutes)              0\ndtype: int64"
     },
     "execution_count": 217,
     "metadata": {},
     "output_type": "execute_result"
    }
   ],
   "source": [
    "df.isnull().sum()"
   ],
   "metadata": {
    "collapsed": false,
    "ExecuteTime": {
     "start_time": "2023-05-14T14:23:52.429755Z",
     "end_time": "2023-05-14T14:23:52.465369Z"
    }
   }
  },
  {
   "cell_type": "code",
   "execution_count": 218,
   "outputs": [
    {
     "name": "stdout",
     "output_type": "stream",
     "text": [
      "<class 'pandas.core.frame.DataFrame'>\n",
      "RangeIndex: 5465 entries, 0 to 5464\n",
      "Data columns (total 10 columns):\n",
      " #   Column                      Non-Null Count  Dtype  \n",
      "---  ------                      --------------  -----  \n",
      " 0   Users                       5465 non-null   object \n",
      " 1   Purpose                     5465 non-null   object \n",
      " 2   Class of Orbit              5465 non-null   object \n",
      " 3   Type of Orbit               5465 non-null   object \n",
      " 4   Longitude of GEO (degrees)  5465 non-null   float64\n",
      " 5   Perigee (km)                5465 non-null   int64  \n",
      " 6   Apogee (km)                 5465 non-null   int64  \n",
      " 7   Eccentricity                5465 non-null   float64\n",
      " 8   Inclination (degrees)       5465 non-null   float64\n",
      " 9   Period (minutes)            5465 non-null   float64\n",
      "dtypes: float64(4), int64(2), object(4)\n",
      "memory usage: 427.1+ KB\n"
     ]
    }
   ],
   "source": [
    "df.info()"
   ],
   "metadata": {
    "collapsed": false,
    "ExecuteTime": {
     "start_time": "2023-05-14T14:23:52.445262Z",
     "end_time": "2023-05-14T14:23:52.535123Z"
    }
   }
  },
  {
   "cell_type": "code",
   "execution_count": 219,
   "outputs": [],
   "source": [
    "X = df\n",
    "y = df['Users']"
   ],
   "metadata": {
    "collapsed": false,
    "ExecuteTime": {
     "start_time": "2023-05-14T14:23:52.473555Z",
     "end_time": "2023-05-14T14:23:52.549646Z"
    }
   }
  },
  {
   "cell_type": "code",
   "execution_count": 220,
   "outputs": [
    {
     "data": {
      "text/plain": "<Figure size 640x480 with 1 Axes>",
      "image/png": "[encoded data removed]"
     },
     "metadata": {},
     "output_type": "display_data"
    }
   ],
   "source": [
    "usersPlot = X[\"Users\"].value_counts().reset_index()\n",
    "usersPlot.plot(kind = \"bar\", x = \"Users\")\n",
    "plt.show()"
   ],
   "metadata": {
    "collapsed": false,
    "ExecuteTime": {
     "start_time": "2023-05-14T14:23:52.488574Z",
     "end_time": "2023-05-14T14:23:52.840192Z"
    }
   }
  },
  {
   "cell_type": "code",
   "execution_count": 221,
   "outputs": [
    {
     "data": {
      "text/plain": "<Figure size 640x480 with 1 Axes>",
      "image/png": "[encoded data removed]"
     },
     "metadata": {},
     "output_type": "display_data"
    }
   ],
   "source": [
    "cols = [df[\"Eccentricity\"],df[\"Apogee (km)\"]]\n",
    "fig, ax = plt.subplots()\n",
    "ax.boxplot(cols)\n",
    "plt.show()"
   ],
   "metadata": {
    "collapsed": false,
    "ExecuteTime": {
     "start_time": "2023-05-14T14:23:52.842193Z",
     "end_time": "2023-05-14T14:23:52.933949Z"
    }
   }
  },
  {
   "cell_type": "code",
   "execution_count": 222,
   "outputs": [
    {
     "data": {
      "text/plain": "<Figure size 640x480 with 1 Axes>",
      "image/png": "[encoded data removed]"
     },
     "metadata": {},
     "output_type": "display_data"
    }
   ],
   "source": [
    "cols = [df[\"Perigee (km)\"],df[\"Inclination (degrees)\"]]\n",
    "fig, ax = plt.subplots()\n",
    "ax.boxplot(cols)\n",
    "plt.show()"
   ],
   "metadata": {
    "collapsed": false,
    "ExecuteTime": {
     "start_time": "2023-05-14T14:23:52.934449Z",
     "end_time": "2023-05-14T14:23:53.026266Z"
    }
   }
  },
  {
   "cell_type": "code",
   "execution_count": 223,
   "outputs": [],
   "source": [
    "le = LabelEncoder()\n",
    "X['Users'] = le.fit_transform(X['Users'])\n",
    "X['Purpose'] = le.fit_transform(X['Purpose'])\n",
    "X['Class of Orbit'] = le.fit_transform(X['Class of Orbit'])\n",
    "X['Type of Orbit'] = le.fit_transform(X['Type of Orbit'])\n",
    "y = le.fit_transform(y)"
   ],
   "metadata": {
    "collapsed": false,
    "ExecuteTime": {
     "start_time": "2023-05-14T14:23:53.028276Z",
     "end_time": "2023-05-14T14:23:53.083344Z"
    }
   }
  },
  {
   "cell_type": "code",
   "execution_count": 224,
   "outputs": [
    {
     "data": {
      "text/plain": "      Users   Purpose Class of Orbit Type of Orbit Longitude of GEO (degrees)   \n0  0.190476  0.193548       0.666667         0.625                   0.333705  \\\n1  0.000000  0.935484       0.666667         0.875                   0.333705   \n2  0.000000  0.193548       0.666667         0.875                   0.333705   \n3  0.190476  0.032258       0.333333         1.000                   0.472903   \n4  0.190476  0.032258       0.333333         1.000                   0.194506   \n\n  Perigee (km) Apogee (km) Eccentricity Inclination (degrees) Period (minutes)  \n0     0.006704    0.001597     0.000067              0.257322         0.007565  \n1     0.005592    0.001418     0.000068              0.679568         0.007445  \n2     0.004706    0.001934     0.000100              0.684798         0.007549  \n3     0.574182    0.108331     0.000066              0.000558         0.123971  \n4     0.572925    0.108049     0.000065              0.000000         0.123977  ",
      "text/html": "<div>\n<style scoped>\n    .dataframe tbody tr th:only-of-type {\n        vertical-align: middle;\n    }\n\n    .dataframe tbody tr th {\n        vertical-align: top;\n    }\n\n    .dataframe thead tr th {\n        text-align: left;\n    }\n</style>\n<table border=\"1\" class=\"dataframe\">\n  <thead>\n    <tr>\n      <th></th>\n      <th>Users</th>\n      <th>Purpose</th>\n      <th>Class of Orbit</th>\n      <th>Type of Orbit</th>\n      <th>Longitude of GEO (degrees)</th>\n      <th>Perigee (km)</th>\n      <th>Apogee (km)</th>\n      <th>Eccentricity</th>\n      <th>Inclination (degrees)</th>\n      <th>Period (minutes)</th>\n    </tr>\n  </thead>\n  <tbody>\n    <tr>\n      <th>0</th>\n      <td>0.190476</td>\n      <td>0.193548</td>\n      <td>0.666667</td>\n      <td>0.625</td>\n      <td>0.333705</td>\n      <td>0.006704</td>\n      <td>0.001597</td>\n      <td>0.000067</td>\n      <td>0.257322</td>\n      <td>0.007565</td>\n    </tr>\n    <tr>\n      <th>1</th>\n      <td>0.000000</td>\n      <td>0.935484</td>\n      <td>0.666667</td>\n      <td>0.875</td>\n      <td>0.333705</td>\n      <td>0.005592</td>\n      <td>0.001418</td>\n      <td>0.000068</td>\n      <td>0.679568</td>\n      <td>0.007445</td>\n    </tr>\n    <tr>\n      <th>2</th>\n      <td>0.000000</td>\n      <td>0.193548</td>\n      <td>0.666667</td>\n      <td>0.875</td>\n      <td>0.333705</td>\n      <td>0.004706</td>\n      <td>0.001934</td>\n      <td>0.000100</td>\n      <td>0.684798</td>\n      <td>0.007549</td>\n    </tr>\n    <tr>\n      <th>3</th>\n      <td>0.190476</td>\n      <td>0.032258</td>\n      <td>0.333333</td>\n      <td>1.000</td>\n      <td>0.472903</td>\n      <td>0.574182</td>\n      <td>0.108331</td>\n      <td>0.000066</td>\n      <td>0.000558</td>\n      <td>0.123971</td>\n    </tr>\n    <tr>\n      <th>4</th>\n      <td>0.190476</td>\n      <td>0.032258</td>\n      <td>0.333333</td>\n      <td>1.000</td>\n      <td>0.194506</td>\n      <td>0.572925</td>\n      <td>0.108049</td>\n      <td>0.000065</td>\n      <td>0.000000</td>\n      <td>0.123977</td>\n    </tr>\n  </tbody>\n</table>\n</div>"
     },
     "execution_count": 224,
     "metadata": {},
     "output_type": "execute_result"
    }
   ],
   "source": [
    "cols = X.columns\n",
    "ms = MinMaxScaler()\n",
    "X = ms.fit_transform(X)\n",
    "X = pd.DataFrame(X, columns = [cols])\n",
    "X.head()"
   ],
   "metadata": {
    "collapsed": false,
    "ExecuteTime": {
     "start_time": "2023-05-14T14:23:53.043287Z",
     "end_time": "2023-05-14T14:23:53.083846Z"
    }
   }
  },
  {
   "cell_type": "code",
   "execution_count": 225,
   "outputs": [
    {
     "data": {
      "text/plain": "array([[2.82257828e-01, 1.71879857e-01, 6.71245985e-01, 7.13707197e-01,\n        3.33720512e-01, 1.58533609e-02, 4.56273316e-03, 8.83077857e-04,\n        4.89333146e-01, 9.93330964e-03],\n       [4.34726271e-01, 1.35176651e-01, 3.19727891e-01, 9.95323129e-01,\n        3.73166087e-01, 5.51784604e-01, 1.12548391e-01, 1.21633086e-04,\n        2.57999364e-02, 1.24643064e-01]])"
     },
     "execution_count": 225,
     "metadata": {},
     "output_type": "execute_result"
    }
   ],
   "source": [
    "kmeans = KMeans(n_clusters=2, random_state=0)\n",
    "kmeans.fit(X)\n",
    "kmeans.cluster_centers_"
   ],
   "metadata": {
    "collapsed": false,
    "ExecuteTime": {
     "start_time": "2023-05-14T14:23:53.057816Z",
     "end_time": "2023-05-14T14:23:53.199104Z"
    }
   }
  },
  {
   "cell_type": "code",
   "execution_count": 226,
   "outputs": [
    {
     "data": {
      "text/plain": "927.5155836206106"
     },
     "execution_count": 226,
     "metadata": {},
     "output_type": "execute_result"
    }
   ],
   "source": [
    "kmeans.inertia_\n",
    "# Very high intertia value"
   ],
   "metadata": {
    "collapsed": false,
    "ExecuteTime": {
     "start_time": "2023-05-14T14:23:53.182584Z",
     "end_time": "2023-05-14T14:23:53.199604Z"
    }
   }
  },
  {
   "cell_type": "code",
   "execution_count": 227,
   "outputs": [
    {
     "name": "stdout",
     "output_type": "stream",
     "text": [
      "Result: 152 out of 5465 samples were correctly labeled.\n",
      "Accuracy score: 0.03\n"
     ]
    }
   ],
   "source": [
    "labels = kmeans.labels_\n",
    "# check how many of the samples were correctly labeled\n",
    "correct_labels = sum(y == labels)\n",
    "print(\"Result: %d out of %d samples were correctly labeled.\" % (correct_labels, y.size))\n",
    "print('Accuracy score: {0:0.2f}'. format(correct_labels/float(y.size)))"
   ],
   "metadata": {
    "collapsed": false,
    "ExecuteTime": {
     "start_time": "2023-05-14T14:23:53.199104Z",
     "end_time": "2023-05-14T14:23:53.226970Z"
    }
   }
  },
  {
   "cell_type": "code",
   "execution_count": 228,
   "outputs": [
    {
     "data": {
      "text/plain": "<Figure size 640x480 with 1 Axes>",
      "image/png": "[encoded data removed]"
     },
     "metadata": {},
     "output_type": "display_data"
    }
   ],
   "source": [
    "from sklearn.cluster import KMeans\n",
    "cs = []\n",
    "for i in range(1, 11):\n",
    "    kmeans = KMeans(n_clusters = i, init = 'k-means++', max_iter = 300, n_init = 10, random_state = 0)\n",
    "    kmeans.fit(X)\n",
    "    cs.append(kmeans.inertia_)\n",
    "plt.plot(range(1, 11), cs)\n",
    "plt.title('The Elbow Method')\n",
    "plt.xlabel('Number of clusters')\n",
    "plt.ylabel('CS')\n",
    "plt.show()"
   ],
   "metadata": {
    "collapsed": false,
    "ExecuteTime": {
     "start_time": "2023-05-14T14:23:53.217846Z",
     "end_time": "2023-05-14T14:23:54.489912Z"
    }
   }
  },
  {
   "cell_type": "code",
   "execution_count": 229,
   "outputs": [
    {
     "name": "stdout",
     "output_type": "stream",
     "text": [
      "Result: 47 out of 5465 samples were correctly labeled.\n",
      "Accuracy score: 0.01\n"
     ]
    }
   ],
   "source": [
    "# It appears that k=3 and possibly k=5 are better options. Will check\n",
    "kmeans = KMeans(n_clusters=3, random_state=0)\n",
    "kmeans.fit(X)\n",
    "# check how many of the samples were correctly labeled\n",
    "labels = kmeans.labels_\n",
    "correct_labels = sum(y == labels)\n",
    "print(\"Result: %d out of %d samples were correctly labeled.\" % (correct_labels, y.size))\n",
    "print('Accuracy score: {0:0.2f}'. format(correct_labels/float(y.size)))"
   ],
   "metadata": {
    "collapsed": false,
    "ExecuteTime": {
     "start_time": "2023-05-14T14:23:54.491413Z",
     "end_time": "2023-05-14T14:23:54.629580Z"
    }
   }
  },
  {
   "cell_type": "code",
   "execution_count": 230,
   "outputs": [
    {
     "name": "stdout",
     "output_type": "stream",
     "text": [
      "Result: 43 out of 5465 samples were correctly labeled.\n",
      "Accuracy score: 0.01\n"
     ]
    }
   ],
   "source": [
    "# It appears that k=3 and possibly k=5 are better options. Will check\n",
    "kmeans = KMeans(n_clusters=5, random_state=0)\n",
    "kmeans.fit(X)\n",
    "# check how many of the samples were correctly labeled\n",
    "labels = kmeans.labels_\n",
    "correct_labels = sum(y == labels)\n",
    "print(\"Result: %d out of %d samples were correctly labeled.\" % (correct_labels, y.size))\n",
    "print('Accuracy score: {0:0.2f}'. format(correct_labels/float(y.size)))"
   ],
   "metadata": {
    "collapsed": false,
    "ExecuteTime": {
     "start_time": "2023-05-14T14:23:54.628580Z",
     "end_time": "2023-05-14T14:23:54.750958Z"
    }
   }
  },
  {
   "cell_type": "code",
   "execution_count": 231,
   "outputs": [],
   "source": [
    "# The accuracy score is getting worse.."
   ],
   "metadata": {
    "collapsed": false,
    "ExecuteTime": {
     "start_time": "2023-05-14T14:23:54.751459Z",
     "end_time": "2023-05-14T14:23:54.795263Z"
    }
   }
  },
  {
   "cell_type": "code",
   "execution_count": 232,
   "outputs": [
    {
     "name": "stdout",
     "output_type": "stream",
     "text": [
      "Result: 2433 out of 5465 samples were correctly labeled.\n",
      "Accuracy score: 0.45\n"
     ]
    }
   ],
   "source": [
    "# It appears that k=3 and possibly k=5 are better options. Will check\n",
    "kmeans = KMeans(n_clusters=8, random_state=0)\n",
    "kmeans.fit(X)\n",
    "# check how many of the samples were correctly labeled\n",
    "labels = kmeans.labels_\n",
    "correct_labels = sum(y == labels)\n",
    "print(\"Result: %d out of %d samples were correctly labeled.\" % (correct_labels, y.size))\n",
    "print('Accuracy score: {0:0.2f}'. format(correct_labels/float(y.size)))"
   ],
   "metadata": {
    "collapsed": false,
    "ExecuteTime": {
     "start_time": "2023-05-14T14:23:54.768988Z",
     "end_time": "2023-05-14T14:23:54.915516Z"
    }
   }
  },
  {
   "cell_type": "code",
   "execution_count": 233,
   "outputs": [
    {
     "name": "stdout",
     "output_type": "stream",
     "text": [
      "Result: 1288 out of 5465 samples were correctly labeled.\n",
      "Accuracy score: 0.24\n"
     ]
    }
   ],
   "source": [
    "# It appears that k=3 and possibly k=5 are better options. Will check\n",
    "kmeans = KMeans(n_clusters=7, random_state=0)\n",
    "kmeans.fit(X)\n",
    "# check how many of the samples were correctly labeled\n",
    "labels = kmeans.labels_\n",
    "correct_labels = sum(y == labels)\n",
    "print(\"Result: %d out of %d samples were correctly labeled.\" % (correct_labels, y.size))\n",
    "print('Accuracy score: {0:0.2f}'. format(correct_labels/float(y.size)))"
   ],
   "metadata": {
    "collapsed": false,
    "ExecuteTime": {
     "start_time": "2023-05-14T14:23:54.908019Z",
     "end_time": "2023-05-14T14:23:55.051265Z"
    }
   }
  },
  {
   "cell_type": "code",
   "execution_count": 233,
   "outputs": [],
   "source": [],
   "metadata": {
    "collapsed": false,
    "ExecuteTime": {
     "start_time": "2023-05-14T14:23:55.046258Z",
     "end_time": "2023-05-14T14:23:55.089295Z"
    }
   }
  }
 ],
 "metadata": {
  "kernelspec": {
   "display_name": "Python 3",
   "language": "python",
   "name": "python3"
  },
  "language_info": {
   "codemirror_mode": {
    "name": "ipython",
    "version": 2
   },
   "file_extension": ".py",
   "mimetype": "text/x-python",
   "name": "python",
   "nbconvert_exporter": "python",
   "pygments_lexer": "ipython2",
   "version": "2.7.6"
  }
 },
 "nbformat": 4,
 "nbformat_minor": 0
}
